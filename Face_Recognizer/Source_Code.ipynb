{
  "cells": [
    {
      "cell_type": "markdown",
      "metadata": {
        "id": "view-in-github",
        "colab_type": "text"
      },
      "source": [
        "<a href=\"https://colab.research.google.com/github/TDMSundriyal/Projects/blob/main/Face_Recognizer/Source_Code.ipynb\" target=\"_parent\"><img src=\"https://colab.research.google.com/assets/colab-badge.svg\" alt=\"Open In Colab\"/></a>"
      ]
    },
    {
      "cell_type": "code",
      "execution_count": null,
      "id": "925fe6ee",
      "metadata": {
        "id": "925fe6ee"
      },
      "outputs": [],
      "source": [
        "import mysql.connector"
      ]
    },
    {
      "cell_type": "code",
      "source": [],
      "metadata": {
        "id": "9UAS3QaFk33o"
      },
      "id": "9UAS3QaFk33o",
      "execution_count": null,
      "outputs": []
    },
    {
      "cell_type": "code",
      "execution_count": null,
      "id": "ef532c62",
      "metadata": {
        "id": "ef532c62"
      },
      "outputs": [],
      "source": [
        "mydb=mysql.connector.connect(\n",
        "host=\"localhost\",\n",
        "user=\"root\",\n",
        "passwd=\"\"\n",
        ") "
      ]
    },
    {
      "cell_type": "code",
      "execution_count": null,
      "id": "9396350d",
      "metadata": {
        "id": "9396350d"
      },
      "outputs": [],
      "source": [
        "#print(mydb)\n",
        "#mycursor=mydb.cursor()\n",
        "#mycursor.execute(\"Drop database customer\")"
      ]
    },
    {
      "cell_type": "code",
      "execution_count": null,
      "id": "d9100823",
      "metadata": {
        "id": "d9100823",
        "outputId": "bf5199d4-1f72-4ae6-ba14-9cdd879f7fa1"
      },
      "outputs": [
        {
          "name": "stdout",
          "output_type": "stream",
          "text": [
            "('authorized_user',)\n",
            "('customer',)\n",
            "('information_schema',)\n",
            "('mysql',)\n",
            "('performance_schema',)\n",
            "('phpmyadmin',)\n",
            "('python_database',)\n",
            "('students',)\n"
          ]
        }
      ],
      "source": [
        "mycursor=mydb.cursor()\n",
        "#mycursor.execute(\"create database students\")\n",
        "mycursor.execute(\"show databases\")\n",
        "for x in mycursor:\n",
        "    print(x)"
      ]
    },
    {
      "cell_type": "code",
      "execution_count": null,
      "id": "643494cd",
      "metadata": {
        "id": "643494cd"
      },
      "outputs": [],
      "source": [
        "#mycursor=mydb.cursor()\n",
        "#mycursor.execute(\"create database Customer\")"
      ]
    },
    {
      "cell_type": "code",
      "execution_count": null,
      "id": "02910f07",
      "metadata": {
        "id": "02910f07"
      },
      "outputs": [],
      "source": [
        "mydb=mysql.connector.connect(\n",
        "host=\"localhost\",\n",
        "user=\"root\",\n",
        "passwd=\"\",\n",
        "database=\"customer\"\n",
        ") "
      ]
    },
    {
      "cell_type": "code",
      "execution_count": null,
      "id": "33ea7967",
      "metadata": {
        "id": "33ea7967"
      },
      "outputs": [],
      "source": [
        "#mycursor=mydb.cursor()\n",
        "#mycursor.execute(\"create table cust_data(id int primary key,Name varchar(20),Address varchar(50),Age int,Country varchar(15),Sex varchar(5),Mode varchar(8),Comment varchar(5000))\")"
      ]
    },
    {
      "cell_type": "code",
      "execution_count": null,
      "id": "09e66c3b",
      "metadata": {
        "id": "09e66c3b"
      },
      "outputs": [],
      "source": [
        "import tkinter as tk\n",
        "from tkinter import messagebox\n",
        "from tkinter import scrolledtext\n",
        "import cv2\n",
        "import os\n",
        "from PIL import Image\n",
        "import numpy as np"
      ]
    },
    {
      "cell_type": "code",
      "execution_count": null,
      "id": "a7f85b84",
      "metadata": {
        "id": "a7f85b84",
        "outputId": "2136cf4a-cc4d-490c-d374-16d4c0d8f73e"
      },
      "outputs": [
        {
          "name": "stderr",
          "output_type": "stream",
          "text": [
            "<>:191: SyntaxWarning: \"is\" with a literal. Did you mean \"==\"?\n",
            "<>:191: SyntaxWarning: \"is\" with a literal. Did you mean \"==\"?\n",
            "C:\\Users\\tripa\\AppData\\Local\\Temp\\ipykernel_17640\\1354685231.py:191: SyntaxWarning: \"is\" with a literal. Did you mean \"==\"?\n",
            "  if faces is ():\n"
          ]
        }
      ],
      "source": [
        "window=tk.Tk()\n",
        "window.title(\"Face recognition system\")\n",
        "window.config(background=\"chartreuse\")\n",
        "l1=tk.Label(window,text=\"Name\",font=(\"trebuchet ms\",20),bg=\"chartreuse\")\n",
        "l1.grid(column=0, row=0)\n",
        "t1=tk.Entry(window,width=50,bd=5)\n",
        "t1.grid(column=1, row=0)\n",
        "\n",
        "l2=tk.Label(window,text=\"Age\",font=(\"trebuchet ms\",20),bg=\"chartreuse\")\n",
        "l2.grid(column=0, row=1)\n",
        "t2=tk.Entry(window,width=50,bd=5)\n",
        "t2.grid(column=1, row=1)\n",
        "\n",
        "l3=tk.Label(window,text=\"Address\",font=(\"trebuchet ms\",20),bg=\"chartreuse\")\n",
        "l3.grid(column=0, row=2)\n",
        "t3=tk.Entry(window,width=50,bd=5)\n",
        "t3.grid(column=1, row=2)\n",
        "\n",
        "#COMBOBOX\n",
        "l4=tk.Label(window,text=\"COUNTRY\",font=(\"trebuchet ms\",20),bg=\"chartreuse\")\n",
        "l4.place(x=0,y=150)\n",
        "\n",
        "from tkinter.ttk import *\n",
        "c1=Combobox(window)\n",
        "c1['values']=(\"India\",\"Nepal\",\"US\",\"UK\",\"USSR\",\"UAE\",\"others\",)\n",
        "c1.current(0)\n",
        "c1.place(x=150,y=150)\n",
        "\n",
        "#CHECKBUTTON\n",
        "l5=tk.Label(window,text=\"MODE(s)\",font=(\"trebuchet ms\",20),bg=\"chartreuse\")\n",
        "l5.place(x=0,y=200)\n",
        "var1=tk.IntVar()\n",
        "c2=Checkbutton(window,text=\"Online\",var=var1)\n",
        "var2=tk.IntVar()\n",
        "c3=Checkbutton(window,text=\"Offline\",var=var2)\n",
        "\n",
        "c2.place(x=200,y=200)\n",
        "c3.place(x=260,y=200)\n",
        "\n",
        "#RADIOBUTTON\n",
        "l6=tk.Label(window,text=\"SEX\",font=(\"trebuchet ms\",20),bg=\"chartreuse\")\n",
        "l6.place(x=0,y=250)\n",
        "var3=tk.IntVar()\n",
        "r1=tk.Radiobutton(window,text='Male',value=1,var=var3)\n",
        "r2=tk.Radiobutton(window,text='Female',value=2,var=var3)\n",
        "r3=tk.Radiobutton(window,text='Others',value=3,var=var3)\n",
        "r1.place(x=200,y=250)\n",
        "r2.place(x=260,y=250)\n",
        "r3.place(x=330,y=250)\n",
        "\n",
        "#scrolledText\n",
        "l7=tk.Label(window,text=\"COMMENT\",font=(\"trebuchet ms\",20),bg=\"chartreuse\")\n",
        "l7.place(x=0,y=300)\n",
        "\n",
        "txt=scrolledtext.ScrolledText(window,width=30,height=1)\n",
        "txt.place(x=150,y=305)\n",
        "txt.insert(tk.INSERT,'write some comment')\n",
        "\n",
        "\n",
        "#b=tk.Button(window,text=\"SUBMIT\",font=(\"Arial Bold\",20),bg=\"orange\",fg=\"red\",command=btn_clicked)\n",
        "#b.place(x=150,y=380)\n",
        "\n",
        "def train_classifier():\n",
        "    data_dir=\"D:/Face_Recognizer/Data\"\n",
        "    path = [os.path.join(data_dir,f) for f in os.listdir(data_dir)]\n",
        "    faces  = []\n",
        "    ids   = []\n",
        "    \n",
        "    for image in path:\n",
        "        img = Image.open(image).convert('L');\n",
        "        imageNp= np.array(img, 'uint8')\n",
        "        id = int(os.path.split(image)[1].split(\".\")[1])\n",
        "        \n",
        "        faces.append(imageNp)\n",
        "        ids.append(id)\n",
        "    ids = np.array(ids)\n",
        "    \n",
        "    #Train the classifier and save\n",
        "    clf = cv2.face.LBPHFaceRecognizer_create()\n",
        "    clf.train(faces,ids)\n",
        "    clf.write(\"classifier.xml\")\n",
        "    messagebox.showinfo('Result','Training dataset completed!!!')\n",
        "    \n",
        "b1=tk.Button(window,text=\"Training\",font=(\"trebuchet ms\",20),bg='aqua',fg='gray',command=train_classifier)\n",
        "b1.place(x=0,y=450)\n",
        "\n",
        "def detect_face():\n",
        "    def draw_boundary(img,classifier,scaleFactor,minNeighbors,color,text,clf):\n",
        "        gray_image = cv2.cvtColor(img, cv2.COLOR_BGR2GRAY)\n",
        "        features = classifier.detectMultiScale(gray_image,scaleFactor,minNeighbors)\n",
        "\n",
        "        coords = []\n",
        "\n",
        "        for(x,y,w,h) in features:\n",
        "            cv2.rectangle(img,(x,y),(x+w,y+h),color,2)\n",
        "            id,pred = clf.predict(gray_image[y:y+h,x:x+w])\n",
        "            confidence = int(100*(1-pred/300))\n",
        "            \n",
        "            mydb=mysql.connector.connect(\n",
        "            host=\"localhost\",\n",
        "            user=\"root\",\n",
        "            passwd=\"\",\n",
        "            database=\"customer\"\n",
        "            )\n",
        "            mycursor=mydb.cursor()\n",
        "            mycursor.execute(\"select name from cust_data where id=\"+str(id))\n",
        "            s = mycursor.fetchone()\n",
        "            s = ''+''.join(s)\n",
        "            \n",
        "            if confidence>74:\n",
        "                cv2.putText(img,s,(x,y-5),cv2.FONT_HERSHEY_SIMPLEX,0.8,color,1,cv2.LINE_AA)   \n",
        "            else:\n",
        "                cv2.putText(img,\"UNKNOWN\",(x,y-5),cv2.FONT_HERSHEY_SIMPLEX,0.8,(0,0,255),1,cv2.LINE_AA)\n",
        "\n",
        "            coords=[x,y,w,h]\n",
        "        return coords\n",
        "            \n",
        "    def recognize(img,clf,faceCascade):\n",
        "        coords = draw_boundary(img,faceCascade,1.1,10,(255,255,255),\"Face\",clf)\n",
        "        return img\n",
        "\n",
        "    faceCascade=cv2.CascadeClassifier(\"haarcascade_frontalface_default.xml\")\n",
        "    clf = cv2.face.LBPHFaceRecognizer_create()  #Local Binary Pattern Histogram\n",
        "    clf.read(\"classifier.xml\")\n",
        "\n",
        "    video_capture =  cv2.VideoCapture(0)\n",
        "\n",
        "    while True:\n",
        "        ret,img = video_capture.read()\n",
        "        img=  recognize(img,clf,faceCascade)\n",
        "        cv2.imshow(\"face detection\",img)\n",
        "\n",
        "        if cv2.waitKey(1)==13:\n",
        "            break\n",
        "\n",
        "    video_capture.release()\n",
        "    cv2.destroyAllWindows()\n",
        "\n",
        "b2=tk.Button(window,text=\"Detect the face\",font=(\"trebuchet ms\",20),bg='green1',fg='gray',command=detect_face)\n",
        "b2.place(x=0,y=520)\n",
        "\n",
        "def generate_dataset():\n",
        "    if(t1.get()==\"\" or t2.get()==\"\" or t3.get()==\"\"):\n",
        "        messagebox.showinfo('Result','Please provide complete details of the user')\n",
        "    else:\n",
        "        mydb=mysql.connector.connect(\n",
        "        host=\"localhost\",\n",
        "        user=\"root\",\n",
        "        passwd=\"\",\n",
        "        database=\"customer\"\n",
        "        )\n",
        "        mycursor=mydb.cursor()\n",
        "        mycursor.execute(\"SELECT * from cust_data\")\n",
        "        myresult=mycursor.fetchall()\n",
        "        id=1\n",
        "        for x in myresult:\n",
        "            id+=1\n",
        "        sql=\"insert into cust_data(id,name,age,address,country,mode,sex,comment) values(%s,%s,%s,%s,%s,%s,%s,%s)\"\n",
        "        \n",
        "        #to get checkButton values\n",
        "        if var1.get()==1 and var2.get()==1:\n",
        "            s1=\"Blend Mode\"\n",
        "        elif var1.get()==1:\n",
        "            s1=\"ONLINE\"\n",
        "        elif var2.get()==1:\n",
        "            s1=\"OFFLINE\"\n",
        "        else:\n",
        "            s1=\"\"\n",
        "\n",
        "        #to get radioButton values\n",
        "        if var1.get()==1:\n",
        "            s2=\"MALE\"\n",
        "        elif var1.get()==2:\n",
        "            s2=\"FEMALE\"\n",
        "        elif var1.get()==3:\n",
        "            s2=\"OTHERS\"\n",
        "        else:\n",
        "            s2=\"\"\n",
        "\n",
        "        val=(id,t1.get(),t2.get(),t3.get(),c1.get(),s1,s2,txt.get(\"1.0\",tk.END))\n",
        "        mycursor.execute(sql,val)\n",
        "        mydb.commit()\n",
        "        \n",
        "        face_classifier = cv2.CascadeClassifier(\"haarcascade_frontalface_default.xml\")\n",
        "        def face_cropped(img):\n",
        "            gray  = cv2.cvtColor(img, cv2.COLOR_BGR2GRAY)\n",
        "            faces = face_classifier.detectMultiScale(gray,1.3,5)\n",
        "            #scaling factor=1.3\n",
        "            #Minimum neighbor = 5\n",
        "\n",
        "            if faces is ():\n",
        "                return None\n",
        "            for(x,y,w,h) in faces:\n",
        "                cropped_face=img[y:y+h,x:x+w]\n",
        "            return cropped_face\n",
        "\n",
        "        cap = cv2.VideoCapture(0)\n",
        "        img_id=0\n",
        "\n",
        "        while True:\n",
        "            ret,frame = cap.read()\n",
        "            if face_cropped(frame) is not None:\n",
        "                img_id+=1\n",
        "                face = cv2.resize(face_cropped(frame),(200,200))\n",
        "                face  = cv2.cvtColor(face, cv2.COLOR_BGR2GRAY)\n",
        "                file_name_path = \"data/user.\"+str(id)+\".\"+str(img_id)+\".jpg\"\n",
        "                cv2.imwrite(file_name_path,face)\n",
        "                cv2.putText(face,str(img_id),(50,50),cv2.FONT_HERSHEY_COMPLEX,1, (0,255,0),2)\n",
        "                # (50,50) is the origin point from where text is to be written\n",
        "                # font scale=1\n",
        "                #thickness=2\n",
        "\n",
        "                cv2.imshow(\"Cropped face\",face)\n",
        "                if cv2.waitKey(1)==13 or int(img_id)==200:\n",
        "                    break\n",
        "        cap.release()\n",
        "        cv2.destroyAllWindows()\n",
        "        messagebox.showinfo('Result','Generating dataset completed!!!')\n",
        "\n",
        "b3=tk.Button(window,text=\"Generate dataset\",font=(\"trebuchet ms\",20),bg='yellow1',fg='gray',command=generate_dataset)\n",
        "b3.place(x=0,y=380)\n",
        "\n",
        "window.geometry(\"500x600\")\n",
        "window.mainloop()"
      ]
    },
    {
      "cell_type": "code",
      "execution_count": null,
      "id": "9cd569a4",
      "metadata": {
        "id": "9cd569a4"
      },
      "outputs": [],
      "source": []
    },
    {
      "cell_type": "code",
      "execution_count": null,
      "id": "93700425",
      "metadata": {
        "id": "93700425"
      },
      "outputs": [],
      "source": []
    },
    {
      "cell_type": "code",
      "execution_count": null,
      "id": "3c5d242d",
      "metadata": {
        "id": "3c5d242d"
      },
      "outputs": [],
      "source": []
    }
  ],
  "metadata": {
    "kernelspec": {
      "display_name": "Python 3 (ipykernel)",
      "language": "python",
      "name": "python3"
    },
    "language_info": {
      "codemirror_mode": {
        "name": "ipython",
        "version": 3
      },
      "file_extension": ".py",
      "mimetype": "text/x-python",
      "name": "python",
      "nbconvert_exporter": "python",
      "pygments_lexer": "ipython3",
      "version": "3.11.0"
    },
    "colab": {
      "provenance": [],
      "include_colab_link": true
    }
  },
  "nbformat": 4,
  "nbformat_minor": 5
}